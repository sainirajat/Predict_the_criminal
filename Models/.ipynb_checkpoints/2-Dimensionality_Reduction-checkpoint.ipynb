{
 "cells": [
  {
   "cell_type": "code",
   "execution_count": 26,
   "metadata": {},
   "outputs": [],
   "source": [
    "import numpy as np\n",
    "import matplotlib.pyplot as plt \n",
    "%matplotlib inline\n",
    "import pandas as pd\n",
    "from keras.utils import np_utils\n",
    "from sklearn.preprocessing import LabelEncoder\n",
    "from sklearn.ensemble import RandomForestClassifier\n",
    "from sklearn.tree import DecisionTreeClassifier"
   ]
  },
  {
   "cell_type": "code",
   "execution_count": 2,
   "metadata": {},
   "outputs": [],
   "source": [
    "df = pd.read_csv('./criminal_train.csv')\n",
    "test_file = pd.read_csv('./criminal_test.csv')"
   ]
  },
  {
   "cell_type": "code",
   "execution_count": 3,
   "metadata": {},
   "outputs": [
    {
     "name": "stdout",
     "output_type": "stream",
     "text": [
      "Index([u'PERID', u'IFATHER', u'NRCH17_2', u'IRHHSIZ2', u'IIHHSIZ2',\n",
      "       u'IRKI17_2', u'IIKI17_2', u'IRHH65_2', u'IIHH65_2', u'PRXRETRY',\n",
      "       u'PRXYDATA', u'MEDICARE', u'CAIDCHIP', u'CHAMPUS', u'PRVHLTIN',\n",
      "       u'GRPHLTIN', u'HLTINNOS', u'HLCNOTYR', u'HLCNOTMO', u'HLCLAST',\n",
      "       u'HLLOSRSN', u'HLNVCOST', u'HLNVOFFR', u'HLNVREF', u'HLNVNEED',\n",
      "       u'HLNVSOR', u'IRMCDCHP', u'IIMCDCHP', u'IRMEDICR', u'IIMEDICR',\n",
      "       u'IRCHMPUS', u'IICHMPUS', u'IRPRVHLT', u'IIPRVHLT', u'IROTHHLT',\n",
      "       u'IIOTHHLT', u'HLCALLFG', u'HLCALL99', u'ANYHLTI2', u'IRINSUR4',\n",
      "       u'IIINSUR4', u'OTHINS', u'CELLNOTCL', u'CELLWRKNG', u'IRFAMSOC',\n",
      "       u'IIFAMSOC', u'IRFAMSSI', u'IIFAMSSI', u'IRFSTAMP', u'IIFSTAMP',\n",
      "       u'IRFAMPMT', u'IIFAMPMT', u'IRFAMSVC', u'IIFAMSVC', u'IRWELMOS',\n",
      "       u'IIWELMOS', u'IRPINC3', u'IRFAMIN3', u'IIPINC3', u'IIFAMIN3',\n",
      "       u'GOVTPROG', u'POVERTY3', u'TOOLONG', u'TROUBUND', u'PDEN10',\n",
      "       u'COUTYP2', u'MAIIN102', u'AIIND102', u'ANALWT_C', u'VESTR', u'VEREP',\n",
      "       u'Criminal'],\n",
      "      dtype='object')\n"
     ]
    }
   ],
   "source": [
    "print df.columns"
   ]
  },
  {
   "cell_type": "code",
   "execution_count": 4,
   "metadata": {},
   "outputs": [],
   "source": [
    "ids = test_file['PERID']\n",
    "df = df.drop(['PERID'],axis=1)\n",
    "test_file = test_file.drop(['PERID'],axis=1)"
   ]
  },
  {
   "cell_type": "code",
   "execution_count": 5,
   "metadata": {},
   "outputs": [],
   "source": [
    "df = df.apply(LabelEncoder().fit_transform)\n",
    "test_file = test_file.apply(LabelEncoder().fit_transform)"
   ]
  },
  {
   "cell_type": "code",
   "execution_count": 6,
   "metadata": {},
   "outputs": [],
   "source": [
    "df = df.values\n",
    "test_file = test_file.values"
   ]
  },
  {
   "cell_type": "code",
   "execution_count": 7,
   "metadata": {},
   "outputs": [],
   "source": [
    "# print df[0]\n",
    "# print \"---\"\n",
    "# print df[:5]"
   ]
  },
  {
   "cell_type": "code",
   "execution_count": 8,
   "metadata": {},
   "outputs": [
    {
     "name": "stdout",
     "output_type": "stream",
     "text": [
      "36574\n",
      "(36574, 70) (36574,)\n",
      "(9144, 70) (9144,)\n"
     ]
    }
   ],
   "source": [
    "split = int(0.80*df.shape[0])\n",
    "x_train = df[:split,:-1]\n",
    "y_train = df[:split,-1]\n",
    "x_test = df[split:,:-1]\n",
    "y_test = df[split:,-1]\n",
    "print split\n",
    "print x_train.shape,y_train.shape\n",
    "print x_test.shape,y_test.shape"
   ]
  },
  {
   "cell_type": "code",
   "execution_count": 9,
   "metadata": {},
   "outputs": [],
   "source": [
    "def pca(X,d=None):\n",
    "    if d==None:\n",
    "        d = X.shape[1]\n",
    "        \n",
    "    A = np.cov(X,rowvar=False)\n",
    "    eig_vals,eig_vecs = np.linalg.eig(A)\n",
    "    Z = X.dot(eig_vecs)\n",
    "    red_Z = Z[:,:d]\n",
    "    return eig_vals,eig_vecs,Z,red_Z"
   ]
  },
  {
   "cell_type": "code",
   "execution_count": 10,
   "metadata": {},
   "outputs": [],
   "source": [
    "eig_vals,eig_vecs,Z,red_Z = pca(x_train)"
   ]
  },
  {
   "cell_type": "code",
   "execution_count": 11,
   "metadata": {},
   "outputs": [
    {
     "name": "stdout",
     "output_type": "stream",
     "text": [
      "(70,) (70, 70)\n",
      "(36574, 70)\n"
     ]
    }
   ],
   "source": [
    "print eig_vals.shape,eig_vecs.shape\n",
    "print Z.shape"
   ]
  },
  {
   "cell_type": "code",
   "execution_count": 12,
   "metadata": {},
   "outputs": [
    {
     "name": "stdout",
     "output_type": "stream",
     "text": [
      "(70,)\n",
      "(70, 70)\n"
     ]
    }
   ],
   "source": [
    "info = []\n",
    "for ix in range(eig_vals.shape[0]):\n",
    "    dx = [eig_vals[ix],eig_vecs[:,ix]]\n",
    "    info.append(dx)\n",
    "info = sorted(info,reverse=True,key=lambda z:z[0])\n",
    "\n",
    "sorted_vals = []\n",
    "sorted_vecs = []\n",
    "for ix in range(eig_vals.shape[0]):\n",
    "    sorted_vals.append(info[ix][0])\n",
    "    sorted_vecs.append(info[ix][1])\n",
    "sorted_vals = np.asarray(sorted_vals)\n",
    "sorted_vecs = np.asarray(sorted_vecs)\n",
    "print sorted_vals.shape\n",
    "print sorted_vecs.shape"
   ]
  },
  {
   "cell_type": "code",
   "execution_count": 13,
   "metadata": {},
   "outputs": [],
   "source": [
    "explained_variances_ratio = sorted_vals/sum(sorted_vals)"
   ]
  },
  {
   "cell_type": "code",
   "execution_count": 14,
   "metadata": {},
   "outputs": [],
   "source": [
    "cumulative_explained_ratio = np.cumsum(explained_variances_ratio)"
   ]
  },
  {
   "cell_type": "code",
   "execution_count": 17,
   "metadata": {},
   "outputs": [
    {
     "name": "stdout",
     "output_type": "stream",
     "text": [
      "0.999999894525\n"
     ]
    }
   ],
   "source": [
    "print cumulative_explained_ratio[5]"
   ]
  },
  {
   "cell_type": "code",
   "execution_count": 18,
   "metadata": {},
   "outputs": [
    {
     "data": {
      "text/plain": [
       "[<matplotlib.lines.Line2D at 0x11ab13c10>]"
      ]
     },
     "execution_count": 18,
     "metadata": {},
     "output_type": "execute_result"
    },
    {
     "data": {
      "image/png": "[encoded data removed]",
      "text/plain": [
       "<matplotlib.figure.Figure at 0x104f37d50>"
      ]
     },
     "metadata": {},
     "output_type": "display_data"
    }
   ],
   "source": [
    "plt.plot(np.cumsum(explained_variances_ratio))"
   ]
  },
  {
   "cell_type": "code",
   "execution_count": 19,
   "metadata": {},
   "outputs": [],
   "source": [
    "def new_pca(X,d=None):\n",
    "    \n",
    "    if d==None:\n",
    "        d = X.shape[1]\n",
    "        \n",
    "    A = np.cov(X,rowvar=False)\n",
    "    eig_vals,eig_vecs = np.linalg.eig(A)\n",
    "#     Z = X.dot(eig_vecs)\n",
    "#     red_Z = Z[:,:d]\n",
    "   \n",
    "    info = []\n",
    "    for ix in range(eig_vals.shape[0]):\n",
    "        dx = [eig_vals[ix],eig_vecs[:,ix]]\n",
    "        info.append(dx)\n",
    "    info = sorted(info,reverse=True,key=lambda z:z[0])\n",
    "    \n",
    "    sorted_vals = []\n",
    "    sorted_vecs = []\n",
    "    for ix in range(eig_vals.shape[0]):\n",
    "        sorted_vals.append(info[ix][0])\n",
    "        sorted_vecs.append(info[ix][1])\n",
    "    sorted_vals = np.asarray(sorted_vals)\n",
    "    sorted_vecs = np.asarray(sorted_vecs)\n",
    "    \n",
    "    Z = X.dot(sorted_vecs)\n",
    "    red_Z = X[:,:d]\n",
    "    return eig_vals,eig_vecs,Z,red_Z\n"
   ]
  },
  {
   "cell_type": "code",
   "execution_count": 37,
   "metadata": {},
   "outputs": [],
   "source": [
    "eig_vals,eig_vecs,Z,red_Z1 = new_pca(x_train,d=35)\n",
    "eig_vals,eig_vecs,Z,red_Z2 = new_pca(x_test,d=35)"
   ]
  },
  {
   "cell_type": "code",
   "execution_count": 38,
   "metadata": {},
   "outputs": [
    {
     "name": "stdout",
     "output_type": "stream",
     "text": [
      "(36574, 35)\n",
      "(9144, 35)\n"
     ]
    }
   ],
   "source": [
    "print red_Z1.shape\n",
    "print red_Z2.shape"
   ]
  },
  {
   "cell_type": "code",
   "execution_count": 39,
   "metadata": {},
   "outputs": [],
   "source": [
    "dt = DecisionTreeClassifier()\n",
    "rf = RandomForestClassifier()"
   ]
  },
  {
   "cell_type": "code",
   "execution_count": 40,
   "metadata": {},
   "outputs": [
    {
     "data": {
      "text/plain": [
       "DecisionTreeClassifier(class_weight=None, criterion='gini', max_depth=None,\n",
       "            max_features=None, max_leaf_nodes=None,\n",
       "            min_impurity_decrease=0.0, min_impurity_split=None,\n",
       "            min_samples_leaf=1, min_samples_split=2,\n",
       "            min_weight_fraction_leaf=0.0, presort=False, random_state=None,\n",
       "            splitter='best')"
      ]
     },
     "execution_count": 40,
     "metadata": {},
     "output_type": "execute_result"
    }
   ],
   "source": [
    "dt.fit(red_Z1,y_train)"
   ]
  },
  {
   "cell_type": "code",
   "execution_count": 41,
   "metadata": {},
   "outputs": [
    {
     "name": "stdout",
     "output_type": "stream",
     "text": [
      "0.939820637611\n",
      "0.928477690289\n"
     ]
    }
   ],
   "source": [
    "print dt.score(red_Z1,y_train)\n",
    "print dt.score(red_Z2,y_test)"
   ]
  },
  {
   "cell_type": "code",
   "execution_count": 42,
   "metadata": {},
   "outputs": [
    {
     "data": {
      "text/plain": [
       "RandomForestClassifier(bootstrap=True, class_weight=None, criterion='gini',\n",
       "            max_depth=None, max_features='auto', max_leaf_nodes=None,\n",
       "            min_impurity_decrease=0.0, min_impurity_split=None,\n",
       "            min_samples_leaf=1, min_samples_split=2,\n",
       "            min_weight_fraction_leaf=0.0, n_estimators=10, n_jobs=1,\n",
       "            oob_score=False, random_state=None, verbose=0,\n",
       "            warm_start=False)"
      ]
     },
     "execution_count": 42,
     "metadata": {},
     "output_type": "execute_result"
    }
   ],
   "source": [
    "rf.fit(red_Z1,y_train)"
   ]
  },
  {
   "cell_type": "code",
   "execution_count": 43,
   "metadata": {},
   "outputs": [
    {
     "name": "stdout",
     "output_type": "stream",
     "text": [
      "0.939027724613\n",
      "0.930664916885\n"
     ]
    }
   ],
   "source": [
    "print rf.score(red_Z1,y_train)\n",
    "print rf.score(red_Z2,y_test)"
   ]
  },
  {
   "cell_type": "code",
   "execution_count": 44,
   "metadata": {},
   "outputs": [],
   "source": [
    "_,_,_,red_Z3 = new_pca(test_file,d=35)"
   ]
  },
  {
   "cell_type": "code",
   "execution_count": 45,
   "metadata": {},
   "outputs": [],
   "source": [
    "predictions = rf.predict(red_Z3)"
   ]
  },
  {
   "cell_type": "code",
   "execution_count": 46,
   "metadata": {},
   "outputs": [],
   "source": [
    "dataframe = {\n",
    "    'PERID' : ids,\n",
    "    'Criminal': predictions\n",
    "}"
   ]
  },
  {
   "cell_type": "code",
   "execution_count": 47,
   "metadata": {},
   "outputs": [],
   "source": [
    "output = pd.DataFrame(data=dataframe)"
   ]
  },
  {
   "cell_type": "code",
   "execution_count": 48,
   "metadata": {},
   "outputs": [],
   "source": [
    "output.to_csv('pca_out.csv',sep=',',index=False,columns=['PERID','Criminal'])"
   ]
  },
  {
   "cell_type": "code",
   "execution_count": null,
   "metadata": {},
   "outputs": [],
   "source": []
  }
 ],
 "metadata": {
  "kernelspec": {
   "display_name": "Python 2",
   "language": "python",
   "name": "python2"
  },
  "language_info": {
   "codemirror_mode": {
    "name": "ipython",
    "version": 2
   },
   "file_extension": ".py",
   "mimetype": "text/x-python",
   "name": "python",
   "nbconvert_exporter": "python",
   "pygments_lexer": "ipython2",
   "version": "2.7.14"
  }
 },
 "nbformat": 4,
 "nbformat_minor": 2
}
