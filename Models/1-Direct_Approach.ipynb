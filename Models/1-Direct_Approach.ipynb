{
 "cells": [
  {
   "cell_type": "code",
   "execution_count": 1,
   "metadata": {},
   "outputs": [
    {
     "name": "stderr",
     "output_type": "stream",
     "text": [
      "Using TensorFlow backend.\n"
     ]
    }
   ],
   "source": [
    "import numpy as np\n",
    "import matplotlib.pyplot as plt\n",
    "%matplotlib inline\n",
    "import pandas as pd\n",
    "from sklearn.preprocessing import LabelEncoder\n",
    "from keras.utils import np_utils\n",
    "from sklearn.ensemble import RandomForestClassifier\n",
    "from sklearn.tree import DecisionTreeClassifier"
   ]
  },
  {
   "cell_type": "code",
   "execution_count": 2,
   "metadata": {},
   "outputs": [],
   "source": [
    "df = pd.read_csv('./criminal_train.csv')\n",
    "test_file = pd.read_csv('./criminal_test.csv')"
   ]
  },
  {
   "cell_type": "code",
   "execution_count": 3,
   "metadata": {},
   "outputs": [
    {
     "name": "stdout",
     "output_type": "stream",
     "text": [
      "Index([u'PERID', u'IFATHER', u'NRCH17_2', u'IRHHSIZ2', u'IIHHSIZ2',\n",
      "       u'IRKI17_2', u'IIKI17_2', u'IRHH65_2', u'IIHH65_2', u'PRXRETRY',\n",
      "       u'PRXYDATA', u'MEDICARE', u'CAIDCHIP', u'CHAMPUS', u'PRVHLTIN',\n",
      "       u'GRPHLTIN', u'HLTINNOS', u'HLCNOTYR', u'HLCNOTMO', u'HLCLAST',\n",
      "       u'HLLOSRSN', u'HLNVCOST', u'HLNVOFFR', u'HLNVREF', u'HLNVNEED',\n",
      "       u'HLNVSOR', u'IRMCDCHP', u'IIMCDCHP', u'IRMEDICR', u'IIMEDICR',\n",
      "       u'IRCHMPUS', u'IICHMPUS', u'IRPRVHLT', u'IIPRVHLT', u'IROTHHLT',\n",
      "       u'IIOTHHLT', u'HLCALLFG', u'HLCALL99', u'ANYHLTI2', u'IRINSUR4',\n",
      "       u'IIINSUR4', u'OTHINS', u'CELLNOTCL', u'CELLWRKNG', u'IRFAMSOC',\n",
      "       u'IIFAMSOC', u'IRFAMSSI', u'IIFAMSSI', u'IRFSTAMP', u'IIFSTAMP',\n",
      "       u'IRFAMPMT', u'IIFAMPMT', u'IRFAMSVC', u'IIFAMSVC', u'IRWELMOS',\n",
      "       u'IIWELMOS', u'IRPINC3', u'IRFAMIN3', u'IIPINC3', u'IIFAMIN3',\n",
      "       u'GOVTPROG', u'POVERTY3', u'TOOLONG', u'TROUBUND', u'PDEN10',\n",
      "       u'COUTYP2', u'MAIIN102', u'AIIND102', u'ANALWT_C', u'VESTR', u'VEREP',\n",
      "       u'Criminal'],\n",
      "      dtype='object')\n",
      "Index([u'PERID', u'IFATHER', u'NRCH17_2', u'IRHHSIZ2', u'IIHHSIZ2',\n",
      "       u'IRKI17_2', u'IIKI17_2', u'IRHH65_2', u'IIHH65_2', u'PRXRETRY',\n",
      "       u'PRXYDATA', u'MEDICARE', u'CAIDCHIP', u'CHAMPUS', u'PRVHLTIN',\n",
      "       u'GRPHLTIN', u'HLTINNOS', u'HLCNOTYR', u'HLCNOTMO', u'HLCLAST',\n",
      "       u'HLLOSRSN', u'HLNVCOST', u'HLNVOFFR', u'HLNVREF', u'HLNVNEED',\n",
      "       u'HLNVSOR', u'IRMCDCHP', u'IIMCDCHP', u'IRMEDICR', u'IIMEDICR',\n",
      "       u'IRCHMPUS', u'IICHMPUS', u'IRPRVHLT', u'IIPRVHLT', u'IROTHHLT',\n",
      "       u'IIOTHHLT', u'HLCALLFG', u'HLCALL99', u'ANYHLTI2', u'IRINSUR4',\n",
      "       u'IIINSUR4', u'OTHINS', u'CELLNOTCL', u'CELLWRKNG', u'IRFAMSOC',\n",
      "       u'IIFAMSOC', u'IRFAMSSI', u'IIFAMSSI', u'IRFSTAMP', u'IIFSTAMP',\n",
      "       u'IRFAMPMT', u'IIFAMPMT', u'IRFAMSVC', u'IIFAMSVC', u'IRWELMOS',\n",
      "       u'IIWELMOS', u'IRPINC3', u'IRFAMIN3', u'IIPINC3', u'IIFAMIN3',\n",
      "       u'GOVTPROG', u'POVERTY3', u'TOOLONG', u'TROUBUND', u'PDEN10',\n",
      "       u'COUTYP2', u'MAIIN102', u'AIIND102', u'ANALWT_C', u'VESTR', u'VEREP'],\n",
      "      dtype='object')\n"
     ]
    }
   ],
   "source": [
    "print df.columns\n",
    "print test_file.columns"
   ]
  },
  {
   "cell_type": "code",
   "execution_count": 4,
   "metadata": {},
   "outputs": [],
   "source": [
    "ids = test_file['PERID']"
   ]
  },
  {
   "cell_type": "code",
   "execution_count": 5,
   "metadata": {},
   "outputs": [],
   "source": [
    "df = df.drop(['PERID'],axis=1)\n",
    "test_file = test_file.drop(['PERID'],axis=1)"
   ]
  },
  {
   "cell_type": "code",
   "execution_count": 6,
   "metadata": {},
   "outputs": [],
   "source": [
    "# print df.columns\n",
    "# print test_file.columns"
   ]
  },
  {
   "cell_type": "code",
   "execution_count": 7,
   "metadata": {},
   "outputs": [],
   "source": [
    "le = LabelEncoder()\n",
    "le2 = LabelEncoder()\n",
    "df = df.apply(le.fit_transform)\n",
    "test_file = test_file.apply(le2.fit_transform)"
   ]
  },
  {
   "cell_type": "code",
   "execution_count": 8,
   "metadata": {},
   "outputs": [],
   "source": [
    "df = df.values\n",
    "test_file = test_file.values"
   ]
  },
  {
   "cell_type": "code",
   "execution_count": 9,
   "metadata": {},
   "outputs": [
    {
     "name": "stdout",
     "output_type": "stream",
     "text": [
      "36574\n",
      "(36574, 70) (36574,)\n",
      "(9144, 70) (9144,)\n"
     ]
    }
   ],
   "source": [
    "split = int(0.80*df.shape[0])\n",
    "train_x = df[:split,:-1]\n",
    "train_y = df[:split,-1]\n",
    "test_x = df[split:,:-1]\n",
    "test_y = df[split:,-1]\n",
    "print split\n",
    "print train_x.shape,train_y.shape\n",
    "print test_x.shape,test_y.shape"
   ]
  },
  {
   "cell_type": "code",
   "execution_count": 100,
   "metadata": {},
   "outputs": [],
   "source": [
    "dt = DecisionTreeClassifier(max_depth=5)\n",
    "rf = RandomForestClassifier()"
   ]
  },
  {
   "cell_type": "code",
   "execution_count": 101,
   "metadata": {},
   "outputs": [
    {
     "data": {
      "text/plain": [
       "DecisionTreeClassifier(class_weight=None, criterion='gini', max_depth=5,\n",
       "            max_features=None, max_leaf_nodes=None,\n",
       "            min_impurity_decrease=0.0, min_impurity_split=None,\n",
       "            min_samples_leaf=1, min_samples_split=2,\n",
       "            min_weight_fraction_leaf=0.0, presort=False, random_state=None,\n",
       "            splitter='best')"
      ]
     },
     "execution_count": 101,
     "metadata": {},
     "output_type": "execute_result"
    }
   ],
   "source": [
    "dt.fit(train_x,train_y)"
   ]
  },
  {
   "cell_type": "code",
   "execution_count": 102,
   "metadata": {},
   "outputs": [
    {
     "data": {
      "text/plain": [
       "RandomForestClassifier(bootstrap=True, class_weight=None, criterion='gini',\n",
       "            max_depth=None, max_features='auto', max_leaf_nodes=None,\n",
       "            min_impurity_decrease=0.0, min_impurity_split=None,\n",
       "            min_samples_leaf=1, min_samples_split=2,\n",
       "            min_weight_fraction_leaf=0.0, n_estimators=10, n_jobs=1,\n",
       "            oob_score=False, random_state=None, verbose=0,\n",
       "            warm_start=False)"
      ]
     },
     "execution_count": 102,
     "metadata": {},
     "output_type": "execute_result"
    }
   ],
   "source": [
    "rf.fit(train_x,train_y)"
   ]
  },
  {
   "cell_type": "code",
   "execution_count": 103,
   "metadata": {},
   "outputs": [
    {
     "name": "stdout",
     "output_type": "stream",
     "text": [
      "0.995953409526\n",
      "0.94728783902\n"
     ]
    }
   ],
   "source": [
    "print rf.score(train_x,train_y)\n",
    "print rf.score(test_x,test_y)"
   ]
  },
  {
   "cell_type": "code",
   "execution_count": 104,
   "metadata": {},
   "outputs": [
    {
     "name": "stdout",
     "output_type": "stream",
     "text": [
      "0.95310876579\n",
      "0.94728783902\n"
     ]
    }
   ],
   "source": [
    "print dt.score(train_x,train_y)\n",
    "print rf.score(test_x,test_y)"
   ]
  },
  {
   "cell_type": "code",
   "execution_count": 105,
   "metadata": {},
   "outputs": [],
   "source": [
    "predictions = rf.predict(test_file)"
   ]
  },
  {
   "cell_type": "code",
   "execution_count": 106,
   "metadata": {},
   "outputs": [],
   "source": [
    "dataframe = {\n",
    "    'PERID' : ids,\n",
    "    'Criminal': predictions\n",
    "}"
   ]
  },
  {
   "cell_type": "code",
   "execution_count": 107,
   "metadata": {},
   "outputs": [],
   "source": [
    "output = pd.DataFrame(data=dataframe)"
   ]
  },
  {
   "cell_type": "code",
   "execution_count": 108,
   "metadata": {},
   "outputs": [],
   "source": [
    "output.to_csv('outfile.csv',sep=',',index=False,columns=['PERID','Criminal'])"
   ]
  },
  {
   "cell_type": "code",
   "execution_count": 19,
   "metadata": {},
   "outputs": [],
   "source": [
    "#only 61.58% on test data"
   ]
  }
 ],
 "metadata": {
  "kernelspec": {
   "display_name": "Python 2",
   "language": "python",
   "name": "python2"
  },
  "language_info": {
   "codemirror_mode": {
    "name": "ipython",
    "version": 2
   },
   "file_extension": ".py",
   "mimetype": "text/x-python",
   "name": "python",
   "nbconvert_exporter": "python",
   "pygments_lexer": "ipython2",
   "version": "2.7.14"
  }
 },
 "nbformat": 4,
 "nbformat_minor": 2
}
